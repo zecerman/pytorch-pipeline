{
 "cells": [
  {
   "cell_type": "code",
   "execution_count": null,
   "id": "8d9f3dc7",
   "metadata": {},
   "outputs": [
    {
     "name": "stdout",
     "output_type": "stream",
     "text": [
      "ex im_path = ONLY the base dir: /images\n",
      "ex label_path_list = all category dirs eg images/ramen/\n",
      "ex img_path_list = all .jpg files eg images/ramen/125235.jpg\n",
      "ex class_list = ['spring_rolls', 'pulled_pork_sandwich',...]\n"
     ]
    }
   ],
   "source": [
    "#   NOTEBOOK STRUCTURE:\n",
    "# STEP 0: imports and TRAIN/TEST BEHAVIOR\n",
    "# 0.1: Train step\n",
    "# 0.2: Test step\n",
    "# 0.3: Loop\n",
    "# STEP 1: DATA\n",
    "# 1.1: Paths lists, validate?\n",
    "# 1.2: Transforms, dataloaders \n",
    "# STEP 2: ARCHITECTURE\n",
    "# STEP 3: TRAINING LOOP\n",
    "# STEP 4: ANALYSIS\n",
    "# STEP 5: EXPORT"
   ]
  },
  {
   "cell_type": "code",
   "execution_count": null,
   "id": "eba60955",
   "metadata": {},
   "outputs": [
    {
     "data": {
      "text/plain": [
       "'cuda'"
      ]
     },
     "execution_count": 16,
     "metadata": {},
     "output_type": "execute_result"
    }
   ],
   "source": [
    "# STEP 0: Imports, init cuda\n",
    "\n",
    "import os\n",
    "import numpy as np \n",
    "import pandas as pd \n",
    "import matplotlib.pyplot as plt\n",
    "import torch\n",
    "import torch.nn as nn\n",
    "\n",
    "from sklearn.model_selection import train_test_split\n",
    "torch.__version__\n",
    "\n",
    "device = 'cuda' if torch.cuda.is_available() else 'cpu'\n",
    "device"
   ]
  },
  {
   "cell_type": "code",
   "execution_count": 3,
   "id": "9c5b7c83",
   "metadata": {},
   "outputs": [],
   "source": [
    "# 0.1: Train step\n",
    "def train_step(model: torch.nn.Module,\n",
    "               dataloader: torch.utils.data.DataLoader,\n",
    "               loss_fn: torch.nn.Module,\n",
    "               optimizer: torch.optim.Optimizer):\n",
    "  model.train() # train mode\n",
    "\n",
    "  train_loss, train_acc = 0, 0\n",
    "  for batch, (X, y) in enumerate(dataloader):\n",
    "    X, y = X.to(device), y.to(device)\n",
    "\n",
    "    # Forward pass\n",
    "    y_pred = model(X)\n",
    "    loss = loss_fn(y_pred, y)\n",
    "    train_loss += loss.item()\n",
    "\n",
    "    # Backprop\n",
    "    optimizer.zero_grad()\n",
    "    loss.backward()\n",
    "    optimizer.step()\n",
    "\n",
    "    # Accuracy\n",
    "    y_pred_class = torch.argmax(y_pred, dim=1)\n",
    "    train_acc += (y_pred_class == y).sum().item()/len(y_pred)\n",
    "\n",
    "  # Compute average loss and accuracy\n",
    "  train_loss = train_loss / len(dataloader)\n",
    "  train_acc = train_acc / len(dataloader)\n",
    "  return train_loss, train_acc"
   ]
  },
  {
   "cell_type": "code",
   "execution_count": 4,
   "id": "b150960a",
   "metadata": {},
   "outputs": [],
   "source": [
    "# 0.2: Test step\n",
    "def test_step(model: torch.nn.Module,\n",
    "              dataloader: torch.utils.data.DataLoader,\n",
    "              loss_fn: torch.nn.Module):\n",
    "  model.eval() # eval mode\n",
    "\n",
    "  test_loss, test_acc = 0, 0\n",
    "\n",
    "  with torch.inference_mode():\n",
    "    for batch, (X, y) in enumerate(dataloader):\n",
    "      X, y = X.to(device), y.to(device)\n",
    "      # forward pass\n",
    "      test_pred_logits = model(X)\n",
    "      # calculate the loss\n",
    "      loss = loss_fn(test_pred_logits, y)\n",
    "      test_loss += loss.item()\n",
    "      # calc acc\n",
    "      test_pred_labels = test_pred_logits.argmax(dim=1)\n",
    "      test_acc += ((test_pred_labels==y)).sum().item()/len(test_pred_labels)\n",
    "\n",
    "  # Compute average loss and accuracy\n",
    "  test_loss = test_loss / len(dataloader)\n",
    "  test_acc = test_acc / len(dataloader)\n",
    "  return test_loss, test_acc"
   ]
  },
  {
   "cell_type": "code",
   "execution_count": 5,
   "id": "51616690",
   "metadata": {},
   "outputs": [],
   "source": [
    "# 0.3: Loop\n",
    "from tqdm.auto import tqdm\n",
    "\n",
    "def train_loop(model: torch.nn.Module,\n",
    "          train_dataloader: torch.utils.data.DataLoader,\n",
    "          test_dataloader: torch.utils.data.DataLoader,\n",
    "          optimizer: torch.optim.Optimizer,\n",
    "          loss_fn: torch.nn.Module,\n",
    "          epochs: int):\n",
    "\n",
    "    # create empty results dictionary\n",
    "    results = {\n",
    "        \"train_loss\": [],\n",
    "        \"train_acc\": [],\n",
    "        \"test_loss\": [],\n",
    "        \"test_acc\": []\n",
    "    }\n",
    "    # loop through training and testing steps for a number of epochs\n",
    "    for epoch in tqdm(range(epochs)):\n",
    "        train_loss, train_acc = train_step(model=model,\n",
    "                                           dataloader=train_dataloader,\n",
    "                                           loss_fn=loss_fn,\n",
    "                                           optimizer=optimizer)\n",
    "        test_loss, test_acc = test_step(model=model,\n",
    "            dataloader=test_dataloader,\n",
    "            loss_fn=loss_fn)\n",
    "\n",
    "        print(\n",
    "            f\"Epoch: {epoch+1} | \"\n",
    "            f\"train_loss: {train_loss:.4f} | \"\n",
    "            f\"train_acc: {train_acc:.4f} | \"\n",
    "            f\"test_loss: {test_loss:.4f} | \"\n",
    "            f\"test_acc: {test_acc:.4f}\"\n",
    "        )\n",
    "\n",
    "        # update results dictionary\n",
    "        results[\"train_loss\"].append(train_loss.item() if isinstance(train_loss, torch.Tensor) else train_loss)\n",
    "        results[\"train_acc\"].append(train_acc.item() if isinstance(train_acc, torch.Tensor) else train_acc)\n",
    "        results[\"test_loss\"].append(test_loss.item() if isinstance(test_loss, torch.Tensor) else test_loss)\n",
    "        results[\"test_acc\"].append(test_acc.item() if isinstance(test_acc, torch.Tensor) else test_acc)\n",
    "\n",
    "    return results"
   ]
  },
  {
   "cell_type": "code",
   "execution_count": null,
   "id": "71c48308",
   "metadata": {},
   "outputs": [],
   "source": [
    "# STEP 1: DATA\n",
    "\n",
    "# Download data, segmented pet data used as an example\n",
    "from torch.utils.data import Dataset\n",
    "class OxfordPetDataset(Dataset):\n",
    "    def __init__(self, img_dir, mask_dir, transform=None):\n",
    "        self.img_dir = img_dir\n",
    "        self.mask_dir = mask_dir\n",
    "        self.transform = transform\n",
    "        self.images = os.listdir(img_dir)\n",
    "    \n",
    "    def __len__(self):\n",
    "        return len(self.images)\n",
    "    \n",
    "    def __getitem__(self, idx):\n",
    "        img_name = self.images[idx]\n",
    "        img_path = os.path.join(self.img_dir, img_name)\n",
    "        mask_path = os.path.join(self.mask_dir, img_name.replace('.jpg', '.png'))\n",
    "        \n",
    "        image = Image.open(img_path).convert(\"RGB\")\n",
    "        mask = Image.open(mask_path)\n",
    "        mask = np.array(mask)\n",
    "        mask[mask == 2] = 1  # Convert to binary segmentation\n",
    "        mask = torch.tensor(mask, dtype=torch.long)\n",
    "        \n",
    "        if self.transform:\n",
    "            image = self.transform(image)\n",
    "        \n",
    "        return image, mask\n",
    "    \n",
    "    # TODO: much of this seems questionable and stolen"
   ]
  },
  {
   "cell_type": "code",
   "execution_count": null,
   "id": "e3beeabd",
   "metadata": {},
   "outputs": [],
   "source": [
    "# Transforms, train-test-split, dataloaders \n",
    "\n",
    "# Tsfr function\n",
    "import torchvision.transforms as transforms\n",
    "transform = transforms.Compose([\n",
    "    transforms.resize((128, 128)), # TODO flip horizontal and such\n",
    "    transforms.ToTensor()\n",
    "])\n",
    "\n",
    "dataset = OxfordPetDataset()\n",
    "\n",
    "\n",
    "\n",
    "# load data into numpy vectors with test_train_split\n",
    "y = df['label'].values\n",
    "X = df.drop(columns=['label'],axis=1).values.astype('float32')\n",
    "X_train, X_test, y_train, y_test = train_test_split(X, y, test_size=0.2)\n",
    "\n",
    "# define transform\n",
    "BATCH_SIZE = 64\n",
    "\n",
    "# convert data and labels to torch vectors\n",
    "torch_X_train = torch.from_numpy(X_train).type(torch.float32).view(-1, 1, 28, 28).to(device)\n",
    "torch_y_train = torch.from_numpy(y_train).type(torch.long).to(device)\n",
    "\n",
    "# create feature and targets tensor for test set.\n",
    "torch_X_test = torch.from_numpy(X_test).type(torch.float32).view(-1, 1, 28, 28).to(device)\n",
    "torch_y_test = torch.from_numpy(y_test).type(torch.long).to(device)\n",
    "\n",
    "# Pytorch train and test sets\n",
    "train = torch.utils.data.TensorDataset(torch_X_train,torch_y_train)\n",
    "test = torch.utils.data.TensorDataset(torch_X_test,torch_y_test)\n",
    "\n",
    "# data loader\n",
    "train_loader = torch.utils.data.DataLoader(train, batch_size = BATCH_SIZE, shuffle = True)\n",
    "test_loader = torch.utils.data.DataLoader(test, batch_size = BATCH_SIZE, shuffle = False)"
   ]
  },
  {
   "cell_type": "code",
   "execution_count": 8,
   "id": "f7066b18",
   "metadata": {},
   "outputs": [
    {
     "data": {
      "text/plain": [
       "CNN(\n",
       "  (conv_block): Sequential(\n",
       "    (0): Conv2d(1, 32, kernel_size=(3, 3), stride=(1, 1), padding=(1, 1))\n",
       "    (1): BatchNorm2d(32, eps=1e-05, momentum=0.1, affine=True, track_running_stats=True)\n",
       "    (2): ReLU()\n",
       "    (3): Conv2d(32, 64, kernel_size=(3, 3), stride=(1, 1), padding=(1, 1))\n",
       "    (4): BatchNorm2d(64, eps=1e-05, momentum=0.1, affine=True, track_running_stats=True)\n",
       "    (5): ReLU()\n",
       "    (6): MaxPool2d(kernel_size=2, stride=2, padding=0, dilation=1, ceil_mode=False)\n",
       "    (7): Dropout(p=0.25, inplace=False)\n",
       "    (8): Conv2d(64, 128, kernel_size=(3, 3), stride=(1, 1), padding=(1, 1))\n",
       "    (9): BatchNorm2d(128, eps=1e-05, momentum=0.1, affine=True, track_running_stats=True)\n",
       "    (10): ReLU()\n",
       "    (11): MaxPool2d(kernel_size=2, stride=2, padding=0, dilation=1, ceil_mode=False)\n",
       "    (12): Dropout(p=0.25, inplace=False)\n",
       "  )\n",
       "  (fc_block): Sequential(\n",
       "    (0): Flatten(start_dim=1, end_dim=-1)\n",
       "    (1): Linear(in_features=6272, out_features=256, bias=True)\n",
       "    (2): ReLU()\n",
       "    (3): Dropout(p=0.5, inplace=False)\n",
       "    (4): Linear(in_features=256, out_features=10, bias=True)\n",
       "  )\n",
       ")"
      ]
     },
     "execution_count": 8,
     "metadata": {},
     "output_type": "execute_result"
    }
   ],
   "source": [
    "# STEP 2: ARCHITECTURE\n",
    "class CNN(nn.Module):\n",
    "    def __init__(self):\n",
    "        super().__init__()\n",
    "        self.conv_block = nn.Sequential(\n",
    "            nn.Conv2d(1, 32, 3, padding=1),  # 28x28 → 28x28\n",
    "            nn.BatchNorm2d(32),\n",
    "            nn.ReLU(),\n",
    "            nn.Conv2d(32, 64, 3, padding=1), # 28x28 → 28x28\n",
    "            nn.BatchNorm2d(64),\n",
    "            nn.ReLU(),\n",
    "            nn.MaxPool2d(2),                 # 28x28 → 14x14\n",
    "            nn.Dropout(0.25),\n",
    "\n",
    "            nn.Conv2d(64, 128, 3, padding=1),# 14x14 → 14x14\n",
    "            nn.BatchNorm2d(128),\n",
    "            nn.ReLU(),\n",
    "            nn.MaxPool2d(2),                 # 14x14 → 7x7\n",
    "            nn.Dropout(0.25)\n",
    "        )\n",
    "\n",
    "        self.fc_block = nn.Sequential(\n",
    "            nn.Flatten(),\n",
    "            nn.Linear(128 * 7 * 7, 256),\n",
    "            nn.ReLU(),\n",
    "            nn.Dropout(0.5),\n",
    "            nn.Linear(256, 10)\n",
    "        )\n",
    "\n",
    "    def forward(self, x):\n",
    "        x = self.conv_block(x)\n",
    "        x = self.fc_block(x)\n",
    "        return x\n",
    "\n",
    "\n",
    "model = CNN().to(device)\n",
    "model"
   ]
  },
  {
   "cell_type": "code",
   "execution_count": null,
   "id": "a80be609",
   "metadata": {},
   "outputs": [],
   "source": []
  },
  {
   "cell_type": "code",
   "execution_count": 9,
   "id": "8c167ab2",
   "metadata": {},
   "outputs": [
    {
     "name": "stdout",
     "output_type": "stream",
     "text": [
      "outp logits: tensor([[ 1.9647, -1.5161, -1.5219, -2.3762,  1.0006, -0.3353, -0.8003,  1.3459,\n",
      "         -1.6289, -1.1439]], device='cuda:0'),\n",
      " outp probabilities: tensor([[0.4485, 0.0138, 0.0137, 0.0058, 0.1710, 0.0450, 0.0282, 0.2416, 0.0123,\n",
      "         0.0200]], device='cuda:0')\n",
      "outp label: tensor([0], device='cuda:0')\n",
      " actual label: 1\n"
     ]
    }
   ],
   "source": [
    "# STEP 3: Loss fn, optimizer, dummy forward pass\n",
    "\n",
    "# reasonably good choices depend on data\n",
    "optimizer = torch.optim.Adam(model.parameters())\n",
    "loss_fn = nn.CrossEntropyLoss()\n",
    "\n",
    "# dummy forward pass\n",
    "batch, label_batch = next(iter(train_loader))\n",
    "img, label = batch[0].unsqueeze(dim=0), label_batch[0] \n",
    "\n",
    "model.eval()\n",
    "with torch.inference_mode():\n",
    "  pred = model(img.to(device))\n",
    "\n",
    "print(f'outp logits: {pred},\\n outp probabilities: {torch.softmax(pred, dim=1)}')\n",
    "print(f'outp label: {torch.argmax(torch.softmax(pred, dim=1), dim=1)}\\n actual label: {label}')"
   ]
  },
  {
   "cell_type": "code",
   "execution_count": 11,
   "id": "85c592fb",
   "metadata": {},
   "outputs": [
    {
     "data": {
      "application/vnd.jupyter.widget-view+json": {
       "model_id": "b23fe7256ef541d6a6ea09cd2299fa59",
       "version_major": 2,
       "version_minor": 0
      },
      "text/plain": [
       "  0%|          | 0/5 [00:00<?, ?it/s]"
      ]
     },
     "metadata": {},
     "output_type": "display_data"
    },
    {
     "name": "stdout",
     "output_type": "stream",
     "text": [
      "Epoch: 1 | train_loss: 0.0650 | train_acc: 0.9799 | test_loss: 0.0406 | test_acc: 0.9865\n",
      "Epoch: 2 | train_loss: 0.0580 | train_acc: 0.9829 | test_loss: 0.0290 | test_acc: 0.9908\n",
      "Epoch: 3 | train_loss: 0.0516 | train_acc: 0.9842 | test_loss: 0.0309 | test_acc: 0.9915\n",
      "Epoch: 4 | train_loss: 0.0501 | train_acc: 0.9848 | test_loss: 0.0300 | test_acc: 0.9907\n",
      "Epoch: 5 | train_loss: 0.0416 | train_acc: 0.9871 | test_loss: 0.0318 | test_acc: 0.9903\n",
      "Total training time: 11.580 seconds\n"
     ]
    }
   ],
   "source": [
    "# STEP 3: Training loop\n",
    "\n",
    "from timeit import default_timer as timer\n",
    "start_time = timer()\n",
    "\n",
    "# Training begins here\n",
    "NUM_EPOCHS = 5\n",
    "model_results = train_loop(model=model,\n",
    "                        train_dataloader=train_loader,\n",
    "                        test_dataloader=test_loader,\n",
    "                        optimizer=optimizer,\n",
    "                        loss_fn=loss_fn,\n",
    "                        epochs=NUM_EPOCHS)\n",
    "\n",
    "end_time = timer()\n",
    "print(f\"Total training time: {end_time-start_time:.3f} seconds\")"
   ]
  },
  {
   "cell_type": "code",
   "execution_count": 17,
   "id": "51b5610e",
   "metadata": {},
   "outputs": [],
   "source": [
    "# STEP 4: ANALYSIS\n",
    "\n",
    "def plot_loss_curves(results):\n",
    "    # Unpack losses and accuracies\n",
    "    loss = results['train_loss']\n",
    "    test_loss = results['test_loss']\n",
    "    acc = results['train_acc']\n",
    "    test_acc = results['test_acc']\n",
    "    \n",
    "    epochs = range(len(loss))\n",
    "\n",
    "    # Plot loss curves\n",
    "    plt.figure(figsize=(10, 4))\n",
    "    \n",
    "    # Plot Loss\n",
    "    plt.subplot(1, 2, 1)\n",
    "    plt.plot(epochs, loss, label='Train Loss')\n",
    "    plt.plot(epochs, test_loss, label='Test Loss')\n",
    "    plt.title('Loss')\n",
    "    plt.xlabel('Epochs')\n",
    "    plt.ylabel('Loss')\n",
    "    plt.legend()\n",
    "\n",
    "    # Plot Accuracy\n",
    "    plt.subplot(1, 2, 2)\n",
    "    plt.plot(epochs, acc, label='Train Accuracy')\n",
    "    plt.plot(epochs, test_acc, label='Test Accuracy')\n",
    "    plt.title('Accuracy')\n",
    "    plt.xlabel('Epochs')\n",
    "    plt.ylabel('Accuracy')\n",
    "    plt.legend()\n",
    "\n",
    "    # Show plots\n",
    "    plt.tight_layout()\n",
    "    plt.show()\n"
   ]
  },
  {
   "cell_type": "code",
   "execution_count": 18,
   "id": "c1bd407f",
   "metadata": {},
   "outputs": [
    {
     "data": {
      "image/png": "[encoded data removed]",
      "text/plain": [
       "<Figure size 1000x400 with 2 Axes>"
      ]
     },
     "metadata": {},
     "output_type": "display_data"
    }
   ],
   "source": [
    "plot_loss_curves(model_results)"
   ]
  },
  {
   "cell_type": "code",
   "execution_count": 12,
   "id": "1faf33dc",
   "metadata": {},
   "outputs": [
    {
     "data": {
      "text/plain": [
       "CNN(\n",
       "  (conv_block): Sequential(\n",
       "    (0): Conv2d(1, 32, kernel_size=(3, 3), stride=(1, 1), padding=(1, 1))\n",
       "    (1): BatchNorm2d(32, eps=1e-05, momentum=0.1, affine=True, track_running_stats=True)\n",
       "    (2): ReLU()\n",
       "    (3): Conv2d(32, 64, kernel_size=(3, 3), stride=(1, 1), padding=(1, 1))\n",
       "    (4): BatchNorm2d(64, eps=1e-05, momentum=0.1, affine=True, track_running_stats=True)\n",
       "    (5): ReLU()\n",
       "    (6): MaxPool2d(kernel_size=2, stride=2, padding=0, dilation=1, ceil_mode=False)\n",
       "    (7): Dropout(p=0.25, inplace=False)\n",
       "    (8): Conv2d(64, 128, kernel_size=(3, 3), stride=(1, 1), padding=(1, 1))\n",
       "    (9): BatchNorm2d(128, eps=1e-05, momentum=0.1, affine=True, track_running_stats=True)\n",
       "    (10): ReLU()\n",
       "    (11): MaxPool2d(kernel_size=2, stride=2, padding=0, dilation=1, ceil_mode=False)\n",
       "    (12): Dropout(p=0.25, inplace=False)\n",
       "  )\n",
       "  (fc_block): Sequential(\n",
       "    (0): Flatten(start_dim=1, end_dim=-1)\n",
       "    (1): Linear(in_features=6272, out_features=256, bias=True)\n",
       "    (2): ReLU()\n",
       "    (3): Dropout(p=0.5, inplace=False)\n",
       "    (4): Linear(in_features=256, out_features=10, bias=True)\n",
       "  )\n",
       ")"
      ]
     },
     "execution_count": 12,
     "metadata": {},
     "output_type": "execute_result"
    }
   ],
   "source": [
    "# STEP 5: EXPORT\n",
    "\n",
    "# save and load as pytorch file (.pt) INFERENCE ONLY\n",
    "pt_path = 'model.pt'\n",
    "torch.save(model.state_dict(), pt_path)\n",
    "model = CNN() # match correct model architecture\n",
    "model.load_state_dict(torch.load(pt_path, weights_only=True))\n",
    "model.eval()"
   ]
  },
  {
   "cell_type": "code",
   "execution_count": 13,
   "id": "cf6107e6",
   "metadata": {},
   "outputs": [
    {
     "name": "stderr",
     "output_type": "stream",
     "text": [
      "C:\\Users\\zecer\\AppData\\Local\\Temp\\ipykernel_13852\\2144101711.py:4: FutureWarning: You are using `torch.load` with `weights_only=False` (the current default value), which uses the default pickle module implicitly. It is possible to construct malicious pickle data which will execute arbitrary code during unpickling (See https://github.com/pytorch/pytorch/blob/main/SECURITY.md#untrusted-models for more details). In a future release, the default value for `weights_only` will be flipped to `True`. This limits the functions that could be executed during unpickling. Arbitrary objects will no longer be allowed to be loaded via this mode unless they are explicitly allowlisted by the user via `torch.serialization.add_safe_globals`. We recommend you start setting `weights_only=True` for any use case where you don't have full control of the loaded file. Please open an issue on GitHub for any issues related to this experimental feature.\n",
      "  pt_model.load_state_dict(torch.load(pt_path))\n"
     ]
    }
   ],
   "source": [
    "# load and export as .onnx file INFERENCE ONLY\n",
    "\n",
    "pt_model = CNN() # match correct model architecture\n",
    "pt_model.load_state_dict(torch.load(pt_path))\n",
    "pt_model.eval()\n",
    "ex_input = (torch.zeros(1, 1, 28, 28, dtype=torch.float32)) # match correct input dimenstions\n",
    "torch.onnx.export(pt_model, \n",
    "                ex_input, \n",
    "                'C:/Users/zecer/proj/site/meta/onnx_model.onnx',\n",
    "                export_params=True,\n",
    "                do_constant_folding=True,\n",
    "                input_names=[\"input\"],\n",
    "                output_names=[\"output\"],\n",
    "                dynamic_axes={\"input\": {0: \"batch\"}, \"output\": {0: \"batch\"}},\n",
    ")"
   ]
  },
  {
   "cell_type": "code",
   "execution_count": 14,
   "id": "629959d5",
   "metadata": {},
   "outputs": [
    {
     "data": {
      "text/plain": [
       "[array([[ 0.34309313,  0.22032873,  0.1272758 , -0.02499619, -0.23599964,\n",
       "          0.00161956, -0.1135145 , -0.06935146, -0.14684778, -0.34384832]],\n",
       "       dtype=float32)]"
      ]
     },
     "execution_count": 14,
     "metadata": {},
     "output_type": "execute_result"
    }
   ],
   "source": [
    "import onnx, onnxruntime as ort\n",
    "onnx.checker.check_model(\"C:/Users/zecer/proj/site/meta/onnx_model.onnx\")  # should raise no errors\n",
    "ort.InferenceSession(\"C:/Users/zecer/proj/site/meta/onnx_model.onnx\").run(\n",
    "    None, {\"input\": ex_input.numpy()}\n",
    ")\n"
   ]
  }
 ],
 "metadata": {
  "kernelspec": {
   "display_name": "base",
   "language": "python",
   "name": "python3"
  },
  "language_info": {
   "codemirror_mode": {
    "name": "ipython",
    "version": 3
   },
   "file_extension": ".py",
   "mimetype": "text/x-python",
   "name": "python",
   "nbconvert_exporter": "python",
   "pygments_lexer": "ipython3",
   "version": "3.12.7"
  }
 },
 "nbformat": 4,
 "nbformat_minor": 5
}
